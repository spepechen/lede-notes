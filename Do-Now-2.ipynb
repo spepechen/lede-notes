{
 "cells": [
  {
   "cell_type": "markdown",
   "metadata": {},
   "source": [
    "#Reviewing: variables, casting, if statements"
   ]
  },
  {
   "cell_type": "code",
   "execution_count": 6,
   "metadata": {
    "collapsed": false
   },
   "outputs": [
    {
     "name": "stdout",
     "output_type": "stream",
     "text": [
      "25\n",
      "5\n",
      "catdog\n",
      "cat dog\n"
     ]
    }
   ],
   "source": [
    "# 1) Given the following code, what is the output?\n",
    "\n",
    "i = 5\n",
    "\n",
    "print 5 * 5\n",
    "\n",
    "print i\n",
    "\n",
    "print \"cat\" + \"dog\"\n",
    "\n",
    "print \"cat\", \"dog\"\n",
    "\n"
   ]
  },
  {
   "cell_type": "markdown",
   "metadata": {},
   "source": [
    "## + vs. , \n",
    "    + : connected two same type things without a space, so if you try \"print \"cat\" + 5\" you will get TypeError, b/c 'str' and 'int' are different types.  \n",
    "\n",
    "    , : connect two whatsoever things with a space"
   ]
  },
  {
   "cell_type": "code",
   "execution_count": 12,
   "metadata": {
    "collapsed": false
   },
   "outputs": [
    {
     "name": "stdout",
     "output_type": "stream",
     "text": [
      "55\n",
      "10\n"
     ]
    }
   ],
   "source": [
    "# 2a) The code below doesn't work. Why not? #see \" + vs. ,\" above \n",
    "\n",
    "# print 5 + \"5\" \n",
    "\n",
    "# 2b) There are several ways to make it work! Give two possible changes and what the output would be in each case.\n",
    "print str(5) + \"5\"   #two str \n",
    "print 5 + int(\"5\") #two int \n"
   ]
  },
  {
   "cell_type": "markdown",
   "metadata": {},
   "source": [
    "###### NOTICE!!!! + only connect same type things, so you have to turn 5 either int or str "
   ]
  },
  {
   "cell_type": "code",
   "execution_count": 14,
   "metadata": {
    "collapsed": false
   },
   "outputs": [
    {
     "ename": "SyntaxError",
     "evalue": "invalid syntax (<ipython-input-14-bcc5ea2f6eca>, line 3)",
     "output_type": "error",
     "traceback": [
      "\u001b[0;36m  File \u001b[0;32m\"<ipython-input-14-bcc5ea2f6eca>\"\u001b[0;36m, line \u001b[0;32m3\u001b[0m\n\u001b[0;31m    if n = 2:\u001b[0m\n\u001b[0m         ^\u001b[0m\n\u001b[0;31mSyntaxError\u001b[0m\u001b[0;31m:\u001b[0m invalid syntax\n"
     ]
    }
   ],
   "source": [
    "#3) What is wrong with the following if statement?\n",
    "\n",
    "if n = 2:\n",
    "\n",
    "  print \"Two\"\n"
   ]
  },
  {
   "cell_type": "markdown",
   "metadata": {},
   "source": [
    "##### n is not defined, so you have to claim n = 2 or whatever right before if statement.\" "
   ]
  },
  {
   "cell_type": "code",
   "execution_count": 24,
   "metadata": {
    "collapsed": false
   },
   "outputs": [
    {
     "name": "stdout",
     "output_type": "stream",
     "text": [
      "-5\n",
      "G\n",
      "H\n"
     ]
    }
   ],
   "source": [
    "#4) Given the following code, what would the output be for n = 0, 10, -1, 3, and -5?\n",
    "\n",
    "n = -5\n",
    "print n\n",
    "\n",
    "if n > 0:\n",
    "\n",
    "  print \"A\"\n",
    "\n",
    "  if n >= 3:\n",
    "\n",
    "    print \"B\"\n",
    "\n",
    "    print \"C\"\n",
    "\n",
    "  elif n > 2: #this line is useless, b/c the previous if statement is n > =3, so the variable will never come through this line. \n",
    "\n",
    "    print \"D\"\n",
    "\n",
    "  else: #REMEMVER! You don't need to writer anything except : after else! \n",
    "\n",
    "    print \"E\"\n",
    "\n",
    "elif 1 > n > -2:\n",
    "\n",
    "  print \"F\"\n",
    "\n",
    "else:\n",
    "\n",
    "  print \"G\"\n",
    "# Pay attention to indentation! \n",
    "# n will only do 1 of these 3 statements above: if, elif, else\n",
    "\n",
    "if n < 5:\n",
    "\n",
    "  print \"H\""
   ]
  },
  {
   "cell_type": "code",
   "execution_count": null,
   "metadata": {
    "collapsed": true
   },
   "outputs": [],
   "source": []
  }
 ],
 "metadata": {
  "kernelspec": {
   "display_name": "Python 2",
   "language": "python",
   "name": "python2"
  },
  "language_info": {
   "codemirror_mode": {
    "name": "ipython",
    "version": 2
   },
   "file_extension": ".py",
   "mimetype": "text/x-python",
   "name": "python",
   "nbconvert_exporter": "python",
   "pygments_lexer": "ipython2",
   "version": "2.7.10"
  }
 },
 "nbformat": 4,
 "nbformat_minor": 0
}
