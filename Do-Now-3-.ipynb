{
 "cells": [
  {
   "cell_type": "markdown",
   "metadata": {},
   "source": [
    "#Reviewing: conditionals, dictionaries, lists"
   ]
  },
  {
   "cell_type": "code",
   "execution_count": null,
   "metadata": {
    "collapsed": true
   },
   "outputs": [],
   "source": [
    "#1) What two errors can you spot below?\n",
    "\n",
    "n = 2;\n",
    "if n < 2:\n",
    "  print \"Small\"\n",
    "elif n = 2: #use one equal sign assigning things to var., here you need to use two equal signs!  \n",
    "  print \"Medium\"\n",
    "else print \"Large\" #shoule be else: only. "
   ]
  },
  {
   "cell_type": "markdown",
   "metadata": {},
   "source": [
    "##else: \n",
    "####Don't do else blah blah blah:. else means you want whatever the previous if statement or elif statement left to do something. else does not really care who they are."
   ]
  },
  {
   "cell_type": "markdown",
   "metadata": {},
   "source": [
    "#####corrected code of Q1 is right below: "
   ]
  },
  {
   "cell_type": "code",
   "execution_count": 4,
   "metadata": {
    "collapsed": false
   },
   "outputs": [
    {
     "name": "stdout",
     "output_type": "stream",
     "text": [
      "Medium\n"
     ]
    }
   ],
   "source": [
    "n = 2\n",
    "if n < 2:\n",
    "  print \"Small\"\n",
    "elif n == 2:\n",
    "  print \"Medium\"\n",
    "else:\n",
    "    print \"Large\" \n"
   ]
  },
  {
   "cell_type": "code",
   "execution_count": null,
   "metadata": {
    "collapsed": true
   },
   "outputs": [],
   "source": [
    "#2) Given the following code, '11238' is a _____ and 23 is a _________. #key #value\n",
    "\n",
    "{ '11238': 23, '10011': 47 }\n"
   ]
  },
  {
   "cell_type": "markdown",
   "metadata": {},
   "source": [
    "##Dictionary \n",
    "\n",
    "A dict look like this:\n",
    "adict = {key : value, key2 : value2, key3 : value3....} \n",
    "\n",
    "\n",
    "###Don'ts\n",
    "1) Don't not try to get first value of a dict, b/c the ans will be different if you do second times. Keys and values are not in order in a dict. \n",
    "\n",
    "2) Don't use same key for different values in a dict. Dict will get confused.Usually we use keys to acces values. Values maybe the same, but keys are always unique. \n"
   ]
  },
  {
   "cell_type": "code",
   "execution_count": 14,
   "metadata": {
    "collapsed": false,
    "scrolled": true
   },
   "outputs": [
    {
     "name": "stdout",
     "output_type": "stream",
     "text": [
      "{'high': 66, 'appearance': 'cloudy', 'low': 54}\n"
     ]
    }
   ],
   "source": [
    "#3) How would you add a 'low' of 54 to the following dictionary?\n",
    "\n",
    "weather = { 'high': 66, 'appearance': 'cloudy' }\n",
    "\n",
    "#add this: \n",
    "weather['low'] = 54\n",
    "print weather\n"
   ]
  },
  {
   "cell_type": "markdown",
   "metadata": {},
   "source": [
    "##Adding things in List/ Dict \n",
    "\n",
    "###List => .append( )\n",
    "alist = [1, 2, 3]\n",
    "\n",
    "alist.append(4)\n",
    "\n",
    "print alist #result==> [1, 2, 3, 4]\n",
    "\n",
    "###Dict => directly add new things in the formant of dict\n",
    "weather = { 'high': 66, 'appearance': 'cloudy' }\n",
    "\n",
    "weather['low'] = 54\n",
    "\n",
    "print weather #result ==> {'high': 66, 'appearance': 'cloudy', 'low': 54}"
   ]
  },
  {
   "cell_type": "code",
   "execution_count": 17,
   "metadata": {
    "collapsed": false
   },
   "outputs": [
    {
     "name": "stdout",
     "output_type": "stream",
     "text": [
      "28\n",
      "7\n"
     ]
    }
   ],
   "source": [
    "#4) How can we easily get the total of the list below? How about a count of how many elements are in the list?\n",
    "\n",
    "numbers = [ 1, 2, 3, 4, 5, 6, 7]\n",
    "\n",
    "#ans\n",
    "print sum(numbers) #total of all elements \n",
    "print len(numbers) #number of all elements "
   ]
  },
  {
   "cell_type": "code",
   "execution_count": null,
   "metadata": {
    "collapsed": true
   },
   "outputs": [],
   "source": [
    "#5) Print the 3rd element of a list named dogs. \n",
    "\n",
    "#dogs[2] #index of a list starts from 0.\n",
    "\n",
    "#5a) Given the following dictionary, how can we get a list of all three ZIP codes?\n",
    "\n",
    "data = { '11238': 23, '10011': 47, '10011': 10 }\n",
    "print data.keys() #.keys() will give you a list of data's keys \n",
    "\n",
    "#5b) Write a for loop that prints all three zip codes on separate lines. \n",
    "for zip in data.keys():\n",
    "    print zip/n\n"
   ]
  },
  {
   "cell_type": "code",
   "execution_count": 23,
   "metadata": {
    "collapsed": false
   },
   "outputs": [
    {
     "name": "stdout",
     "output_type": "stream",
     "text": [
      "149\n"
     ]
    }
   ],
   "source": [
    "#6) Given the following list, add together any numbers greater than 10.\n",
    "\n",
    "values = [20, 30 ,10, 5, 99]\n",
    "\n",
    "total = 0\n",
    "for v in values: \n",
    "    if v > 10:\n",
    "        total = total + v \n",
    "print total "
   ]
  },
  {
   "cell_type": "code",
   "execution_count": null,
   "metadata": {
    "collapsed": true
   },
   "outputs": [],
   "source": []
  }
 ],
 "metadata": {
  "kernelspec": {
   "display_name": "Python 2",
   "language": "python",
   "name": "python2"
  },
  "language_info": {
   "codemirror_mode": {
    "name": "ipython",
    "version": 2
   },
   "file_extension": ".py",
   "mimetype": "text/x-python",
   "name": "python",
   "nbconvert_exporter": "python",
   "pygments_lexer": "ipython2",
   "version": "2.7.10"
  }
 },
 "nbformat": 4,
 "nbformat_minor": 0
}
