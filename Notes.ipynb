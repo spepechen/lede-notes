{
 "cells": [
  {
   "cell_type": "markdown",
   "metadata": {},
   "source": [
    "#Terminal \n",
    "My username: Spepe\n",
    "pwd (print working directory)\n",
    "ls (list files) \n",
    "cd (change directory/folder)  \n",
    "     cd /Users/Spepe/desktop/lede => go to “lede” file on desktop \n",
    "cd..\n",
    "cd ~ (home directory) \n",
    "cat (look inside a file)\n",
    "     cat file_name\n",
    "mv (rename files) \n",
    "\n",
    "###csv related \n",
    "wc -l word count -line (count how many lines in a file) \n",
    "head -n 10 filename (get the first 10 lines of a file )\n",
    "head -n 10 filename > newfile (get the first 10 lines of a file and save it into a new file, e.g.head -n 100 > sample.csv )\n",
    "tail -n 10 filename (get the last 10 lines of a file )\n"
   ]
  },
  {
   "cell_type": "markdown",
   "metadata": {},
   "source": [
    "#.csv error \n",
    "\n",
    "##when it occurs\n",
    "After open a .csv in Excel onces, and you try to run that file in python.\n",
    "\n",
    "##solution1: 'rU' \n",
    "\n",
    "#####repalce\n",
    "file = open(\"sample.csv\") \n",
    "dogs = list(csv.DictReader(file))\n",
    "#####with \n",
    "dogs = list(csv.DictReader(open('dogs.csv', **'rU'**)))\n",
    "\n",
    "###explain\n",
    "Excel has a nasty habit of replacing the invisible characters at the end/beginning of lines with its own special invisible characters - the \"U\" means \"universal newline mode\" which can understand them, regular Python doesn't like them much.\n",
    "\n",
    "Tech explanation: The end of lines are marked with invisible characters, such as \\r (carriage return) or \\n (newline). Macs use \\n, Windows sometimes uses \\r\\n, and in older Macs you just used \\r. Excel saves like it's an older mac, which causes trouble when Python is expecting \\n or \\r\\n.\n",
    "\n",
    "##solution2: use command line to fix files\n",
    "type this in command line \n",
    "\n",
    "**tr '\\15' '\\n' < broken.csv > fixed.csv**\n",
    "\n",
    "*you save into a new file called fixed.csv)*"
   ]
  },
  {
   "cell_type": "markdown",
   "metadata": {},
   "source": [
    "#Things I am not sure about \n",
    "\n",
    "expression vs. statement \n",
    "http://stackoverflow.com/questions/4728073/what-is-the-difference-between-an-expression-and-a-statement-in-python\n"
   ]
  },
  {
   "cell_type": "markdown",
   "metadata": {},
   "source": [
    "#Things always confuse me\n",
    "\n",
    "##else: \n",
    "Don't do else blah blah blah:. else means you want whatever the previous if statement or elif statement left to do something. else does not really care who they are.\n",
    "\n",
    "##Dictionary \n",
    "\n",
    "A dict look like this:\n",
    "adict = {key : value, key2 : value2, key3 : value3....} \n",
    "\n",
    "#####Don't do these in a dict.\n",
    "1) Don't not try to get first value of a dict, b/c the ans will be different if you do second times. Keys and values are not in order in a dict. \n",
    "\n",
    "2) Don't use same key for different values in a dict. Dict will get confused.Usually we use keys to acces values. Values maybe the same, but keys are always unique. \n",
    "\n",
    "## + vs. , \n",
    "    + : connected two same type things without a space, so if you try \"print \"cat\" + 5\" you will get TypeError, b/c 'str' and 'int' are different types.  \n",
    "\n",
    "    , : connect two whatsoever things with a space"
   ]
  },
  {
   "cell_type": "markdown",
   "metadata": {},
   "source": [
    "#Don't freak out! Maybe these tips can save you....\n",
    "\n",
    "Got error message? Don't worry, that's normal. Try insert print \"xxx\" in to parts that you guess that may go wrong to narrow down areas that errors may occur.\n",
    "\n",
    "print type(xxx)\n"
   ]
  },
  {
   "cell_type": "markdown",
   "metadata": {
    "collapsed": true
   },
   "source": [
    "sorted vs .sort "
   ]
  },
  {
   "cell_type": "code",
   "execution_count": null,
   "metadata": {
    "collapsed": true
   },
   "outputs": [],
   "source": []
  }
 ],
 "metadata": {
  "kernelspec": {
   "display_name": "Python 2",
   "language": "python",
   "name": "python2"
  },
  "language_info": {
   "codemirror_mode": {
    "name": "ipython",
    "version": 2
   },
   "file_extension": ".py",
   "mimetype": "text/x-python",
   "name": "python",
   "nbconvert_exporter": "python",
   "pygments_lexer": "ipython2",
   "version": "2.7.10"
  }
 },
 "nbformat": 4,
 "nbformat_minor": 0
}
