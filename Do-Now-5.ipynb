{
 "cells": [
  {
   "cell_type": "markdown",
   "metadata": {},
   "source": [
    "#Reviewing: dictionaries, lists, CSVs"
   ]
  },
  {
   "cell_type": "code",
   "execution_count": 2,
   "metadata": {
    "collapsed": false
   },
   "outputs": [
    {
     "name": "stdout",
     "output_type": "stream",
     "text": [
      "hello name\n",
      "hello Max\n"
     ]
    }
   ],
   "source": [
    "#1) What's the output of the following lines?\n",
    "name = \"Max\"\n",
    "print \"hello\", \"name\"\n",
    "print \"hello\", name "
   ]
  },
  {
   "cell_type": "markdown",
   "metadata": {},
   "source": [
    "###**variables vs. strings**\n",
    "a word doesn't have quotation marks around it, Python assumes it is a variable, and substitutes what that variable stands for. In the example above, it's displaying \"Max\" in place of name."
   ]
  },
  {
   "cell_type": "code",
   "execution_count": 10,
   "metadata": {
    "collapsed": false,
    "scrolled": true
   },
   "outputs": [
    {
     "name": "stdout",
     "output_type": "stream",
     "text": [
      "Manhattan\n",
      "500\n",
      "Manhattan\n"
     ]
    }
   ],
   "source": [
    "# 2) What is the output of the following code? Which lines give you errors?\n",
    "\n",
    "borough_name = 'Manhattan'\n",
    "z = [ 'Manhattan', 'Queens' ]\n",
    "x = { 'borough_name': 'Manhattan', 'population': 500 }\n",
    "y = {\n",
    "'Manhattan': 500,\n",
    "'Queens': 200\n",
    "}\n",
    "\n",
    "print x['borough_name']\n",
    "# print x[borough_name] => x['Manhattan'] => KeyError! There's no key namse Mahathann. \n",
    "# print x[0] => KeyError! x is a dict not a list. \n",
    "\n",
    "# print y['borough_name'] => KeyError => There's no key called 'borough_name'.\n",
    "print y[borough_name] # y['Manhattan'] => 500  \n",
    "# print y[0] => KeyError, y is a dict not a list. \n",
    "\n",
    "# print z['borough_name'] => TypeError, z is a list not a dict. if want to get things in list try these: z[0], z[1]\n",
    "# print z[borough_name] => z['Mahathann'] => TypeError! z is a list! You can put only int in 「」  \n",
    "print z[0] #it will give u the first element in the list. \n"
   ]
  },
  {
   "cell_type": "code",
   "execution_count": null,
   "metadata": {
    "collapsed": true
   },
   "outputs": [],
   "source": [
    "3) We have a list called numbers,but we had an off-by-one error: \n",
    "    add one to every element of the list, then sum the results. \n",
    "    Do this in one line."
   ]
  },
  {
   "cell_type": "code",
   "execution_count": 3,
   "metadata": {
    "collapsed": false
   },
   "outputs": [
    {
     "data": {
      "text/plain": [
       "44"
      ]
     },
     "execution_count": 3,
     "metadata": {},
     "output_type": "execute_result"
    }
   ],
   "source": [
    "numbers = [1, 2, 4, 5, 8, 8, 9]\n",
    "sum([(num + 1) for num in numbers])"
   ]
  },
  {
   "cell_type": "code",
   "execution_count": 2,
   "metadata": {
    "collapsed": false
   },
   "outputs": [
    {
     "name": "stdout",
     "output_type": "stream",
     "text": [
      "44\n"
     ]
    }
   ],
   "source": [
    "numbers = [1, 2, 4, 5, 8, 8, 9]\n",
    "new =[]\n",
    "for num in numbers: \n",
    "    new.append(num+1) \n",
    "print sum(new)"
   ]
  },
  {
   "cell_type": "code",
   "execution_count": 29,
   "metadata": {
    "collapsed": false
   },
   "outputs": [
    {
     "name": "stdout",
     "output_type": "stream",
     "text": [
      "49\n"
     ]
    }
   ],
   "source": [
    "#4a) Given the following, write code to calculate how many murders we have in total.\n",
    "\n",
    "murders = { 'Albany': 23, 'Kings County':10, 'Rochester': 7, 'Yonkers': 9}\n",
    "\n",
    "total = 0 \n",
    "for m in murders.values(): #loop through a list of value \n",
    "    total = total + m \n",
    "print total "
   ]
  },
  {
   "cell_type": "code",
   "execution_count": 35,
   "metadata": {
    "collapsed": false
   },
   "outputs": [
    {
     "name": "stdout",
     "output_type": "stream",
     "text": [
      "20.4081632653 %\n"
     ]
    }
   ],
   "source": [
    "#4b) Write code to calculate the percentage of the murders happened in Kings County.\n",
    "print float(murders['Kings County'] )/ total*100,\"%\""
   ]
  }
 ],
 "metadata": {
  "kernelspec": {
   "display_name": "Python 2",
   "language": "python",
   "name": "python2"
  },
  "language_info": {
   "codemirror_mode": {
    "name": "ipython",
    "version": 2
   },
   "file_extension": ".py",
   "mimetype": "text/x-python",
   "name": "python",
   "nbconvert_exporter": "python",
   "pygments_lexer": "ipython2",
   "version": "2.7.10"
  }
 },
 "nbformat": 4,
 "nbformat_minor": 0
}
