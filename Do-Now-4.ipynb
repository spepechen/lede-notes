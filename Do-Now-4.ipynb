{
 "cells": [
  {
   "cell_type": "code",
   "execution_count": null,
   "metadata": {
    "collapsed": true
   },
   "outputs": [],
   "source": [
    "Reviewing: dictionaries, lists, CSVs\n"
   ]
  },
  {
   "cell_type": "code",
   "execution_count": null,
   "metadata": {
    "collapsed": true
   },
   "outputs": [],
   "source": [
    "#1) Print the 3rd element of a list called dogs.\n",
    "\n",
    "dog[2] #index of a list starts from 0."
   ]
  },
  {
   "cell_type": "code",
   "execution_count": 1,
   "metadata": {
    "collapsed": false
   },
   "outputs": [
    {
     "name": "stdout",
     "output_type": "stream",
     "text": [
      "1 green\n",
      "2 green\n",
      "3 green\n",
      "4 green\n",
      "1 blue\n",
      "2 blue\n",
      "3 blue\n",
      "4 blue\n"
     ]
    }
   ],
   "source": [
    "#2) What is the output of the following code?\n",
    "\n",
    "numbers = [ 1, 2, 3, 4]\n",
    "\n",
    "colors = [ \"green\", \"blue\" ]\n",
    "\n",
    "for color in colors: \n",
    "    for number in numbers: \n",
    "        print number, color\n"
   ]
  },
  {
   "cell_type": "code",
   "execution_count": null,
   "metadata": {
    "collapsed": true
   },
   "outputs": [],
   "source": [
    "#3) What command would you use to get the first 100 lines of data.csv, \n",
    "#and save it into a new file named sample.csv?\n",
    "\n",
    "# head -n 100 > sample.csv\n",
    "\n",
    "# This is a view of the file lists.csv, used for the questions below\n",
    "\n",
    "make year color \n",
    "\n",
    "Chevrolet 2011 black \n",
    "\n",
    "Honda 2010 red \n",
    "\n",
    "Honda 2013 black \n",
    "\n",
    "Toyota 2001 gold \n"
   ]
  },
  {
   "cell_type": "code",
   "execution_count": null,
   "metadata": {
    "collapsed": true
   },
   "outputs": [],
   "source": [
    "#4) What is missing from the lines below? (It isn't 100% necessary, but we use it for convenience)\n",
    "import csv \n",
    "file = open(\"lists.csv\")\n",
    "cars = list(csv.DictReader(file)) #make a list of dictionaries\n"
   ]
  },
  {
   "cell_type": "code",
   "execution_count": null,
   "metadata": {
    "collapsed": true
   },
   "outputs": [],
   "source": [
    "#5) Write a for loop to add up all of the years. Save it to a variable called total.\n",
    "\n",
    "total = 0 \n",
    "for y in year:\n",
    "    totoal = total + y"
   ]
  },
  {
   "cell_type": "code",
   "execution_count": null,
   "metadata": {
    "collapsed": true
   },
   "outputs": [],
   "source": [
    "#6) I'd like a new list called favorites that includes all cars that are black or produced after 2010. \n",
    "# Write a for loop to create this list.\n",
    "# Tip: You can join things in if statements using and and or, like n > 3 or name == \"Peter\"\n",
    "\n",
    "favorites = [] #create a new list first\n",
    "for c in cars:\n",
    "    if cars['color'] == 'black' and int(cars['year']) > 2010: #keys of cars are str, so remember to turn them into int! \n",
    "        favorites.append(c)"
   ]
  }
 ],
 "metadata": {
  "kernelspec": {
   "display_name": "Python 2",
   "language": "python",
   "name": "python2"
  },
  "language_info": {
   "codemirror_mode": {
    "name": "ipython",
    "version": 2
   },
   "file_extension": ".py",
   "mimetype": "text/x-python",
   "name": "python",
   "nbconvert_exporter": "python",
   "pygments_lexer": "ipython2",
   "version": "2.7.10"
  }
 },
 "nbformat": 4,
 "nbformat_minor": 0
}
